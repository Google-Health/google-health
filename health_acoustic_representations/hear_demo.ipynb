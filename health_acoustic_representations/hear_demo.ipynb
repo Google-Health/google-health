{
  "cells": [
    {
      "cell_type": "markdown",
      "metadata": {
        "id": "p2hQbI_77OjW"
      },
      "source": [
        "```\n",
        "Copyright (c) 2024, Google Inc.\n",
        "All rights reserved.\n",
        "Redistribution and use in source and binary forms, with or without modification,\n",
        "are permitted provided that the following conditions are met:\n",
        "1. Redistributions of source code must retain the above copyright notice, this\n",
        "   list of conditions and the following disclaimer.\n",
        "2. Redistributions in binary form must reproduce the above copyright notice,\n",
        "   this list of conditions and the following disclaimer in the documentation\n",
        "   and/or other materials provided with the distribution.\n",
        "3. Neither the name of Google Inc. nor the names of its contributors\n",
        "   may be used to endorse or promote products derived from this software without\n",
        "   specific prior written permission.\n",
        "THIS SOFTWARE IS PROVIDED BY THE COPYRIGHT HOLDERS AND CONTRIBUTORS \"AS IS\" AND\n",
        "ANY EXPRESS OR IMPLIED WARRANTIES, INCLUDING, BUT NOT LIMITED TO, THE IMPLIED\n",
        "WARRANTIES OF MERCHANTABILITY AND FITNESS FOR A PARTICULAR PURPOSE ARE\n",
        "DISCLAIMED. IN NO EVENT SHALL THE COPYRIGHT HOLDER OR CONTRIBUTORS BE LIABLE FOR\n",
        "ANY DIRECT, INDIRECT, INCIDENTAL, SPECIAL, EXEMPLARY, OR CONSEQUENTIAL DAMAGES\n",
        "(INCLUDING, BUT NOT LIMITED TO, PROCUREMENT OF SUBSTITUTE GOODS OR SERVICES;\n",
        "LOSS OF USE, DATA, OR PROFITS; OR BUSINESS INTERRUPTION) HOWEVER CAUSED AND ON\n",
        "ANY THEORY OF LIABILITY, WHETHER IN CONTRACT, STRICT LIABILITY, OR TORT\n",
        "(INCLUDING NEGLIGENCE OR OTHERWISE) ARISING IN ANY WAY OUT OF THE USE OF THIS\n",
        "SOFTWARE, EVEN IF ADVISED OF THE POSSIBILITY OF SUCH DAMAGE.\n",
        "```\n"
      ]
    },
    {
      "cell_type": "markdown",
      "metadata": {
        "id": "ozCvnTeNgfSd"
      },
      "source": [
        "# Imports"
      ]
    },
    {
      "cell_type": "code",
      "execution_count": 1,
      "metadata": {
        "id": "qG8fphmPbwd-"
      },
      "outputs": [],
      "source": [
        "import concurrent.futures\n",
        "import os\n",
        "import random\n",
        "\n",
        "import google.auth\n",
        "import google.auth.transport.requests\n",
        "import numpy as np\n"
      ]
    },
    {
      "cell_type": "markdown",
      "metadata": {
        "id": "A137c1bi7Pi5"
      },
      "source": [
        "# Authentication"
      ]
    },
    {
      "cell_type": "markdown",
      "metadata": {
        "id": "kflxFmKocH4k"
      },
      "source": [
        "The JSON file mentioned in the cell below is created by running the following command (for service accounts)\n",
        "\n",
        "```\n",
        "gcloud auth application-default login --impersonate-service-account SERVICE_ACCT\n",
        "```\n",
        "\n",
        "or that command\n",
        "\n",
        "```\n",
        "gcloud auth application-default login\n",
        "```\n",
        "\n",
        "to identify with your own account.\n",
        "\n",
        "This assumes that you have first [installed](https://cloud.google.com/sdk/docs/install) `gcloud` CLI and created a service account (see [[1]](https://cloud.google.com/iam/docs/service-account-overview), [[2]](https://cloud.google.com/iam/docs/service-accounts-create)) (identified by `SERVICE_ACCT` above)"
      ]
    },
    {
      "cell_type": "code",
      "execution_count": null,
      "metadata": {
        "id": "zEqnwMb8b2Yq"
      },
      "outputs": [],
      "source": [
        "os.environ['GOOGLE_APPLICATION_CREDENTIALS'] = '/path/to/your/credentials/json/file'"
      ]
    },
    {
      "cell_type": "code",
      "execution_count": 2,
      "metadata": {
        "id": "sDD7Ks4svhRV"
      },
      "outputs": [],
      "source": [
        "# Environment variable `GOOGLE_APPLICATION_CREDENTIALS` must be set for these\n",
        "# imports to work.\n",
        "import api_utils"
      ]
    },
    {
      "cell_type": "markdown",
      "metadata": {
        "id": "muMiY8lS7Q5Z"
      },
      "source": [
        "# Online predictions"
      ]
    },
    {
      "cell_type": "markdown",
      "metadata": {
        "id": "zScxEKPI7XFU"
      },
      "source": [
        "## With raw audio"
      ]
    },
    {
      "cell_type": "code",
      "execution_count": null,
      "metadata": {
        "id": "-zx9BkYv61WY"
      },
      "outputs": [],
      "source": [
        "raw_audio = np.array([[random.random() for _ in range(32000)] for _ in range(4)])\n",
        "embeddings = api_utils.make_prediction(\n",
        "  endpoint_path=api_utils.RAW_AUDIO_ENDPOINT_PATH,\n",
        "  instances=raw_audio,\n",
        ")"
      ]
    },
    {
      "cell_type": "markdown",
      "metadata": {
        "id": "Ww2Klcij7YoI"
      },
      "source": [
        "## With GCS bucket URIs"
      ]
    },
    {
      "cell_type": "code",
      "execution_count": null,
      "metadata": {
        "id": "6cVSozwVSJTl"
      },
      "outputs": [],
      "source": [
        "gcs_creds, project = google.auth.default()\n",
        "api_utils.initial_token_refresh(gcs_creds)"
      ]
    },
    {
      "cell_type": "code",
      "execution_count": null,
      "metadata": {
        "id": "6-WC0o3oSZro"
      },
      "outputs": [],
      "source": [
        "# copybara:strip_begin(Internal repo)\n",
        "gcs_bucket_name = 'hear-demo'\n",
        "# copybara:strip_end_and_replace_begin\n",
        "# gcs_bucket_name = 'your-bucket-name'\n",
        "# copybara:replace_end\n",
        "\n",
        "predictions = api_utils.make_prediction(\n",
        "  endpoint_path=api_utils.GCS_URI_ENDPOINT_PATH,\n",
        "  # copybara:strip_begin(Internal filepaths)\n",
        "  instances=['data/test.wav', 'data/test.wav'],\n",
        "  # copybara:strip_end_and_replace_begin\n",
        "  # instances=['path/to/your/file1.wav', 'path/to/your/file2.wav'],\n",
        "  # copybara:replace_end\n",
        "  gcs_bucket_name=gcs_bucket_name,\n",
        "  gcs_creds=gcs_creds,\n",
        ")"
      ]
    },
    {
      "cell_type": "markdown",
      "metadata": {
        "id": "MY9wituPny0G"
      },
      "source": [
        "# If you have a lot of queries to run\n",
        "\n",
        "Example with the raw-audio endpoint (202) using ThreadPoolExecutor."
      ]
    },
    {
      "cell_type": "code",
      "execution_count": null,
      "metadata": {
        "id": "Vx3gaUe0cb_h"
      },
      "outputs": [],
      "source": [
        "# 1000 batches of 4 clips. This is the format expected for the raw audio endpoint\n",
        "instances = np.random.uniform(size=(1000, 4, 32000))  # update with your data\n",
        "\n",
        "responses = {}\n",
        "\n",
        "with concurrent.futures.ThreadPoolExecutor(max_workers=50) as executor:\n",
        "  futures_to_batch_idx = {\n",
        "    executor.submit(\n",
        "        api_utils.make_prediction_with_exponential_backoff,\n",
        "        api_utils.RAW_AUDIO_ENDPOINT_PATH,\n",
        "        instance\n",
        "    ): batch_idx\n",
        "    for batch_idx, instance in enumerate(instances)\n",
        "  }\n",
        "\n",
        "  for future in concurrent.futures.as_completed(futures_to_batch_idx):\n",
        "    batch_idx = futures_to_batch_idx[future]\n",
        "    try:\n",
        "      responses[batch_idx] = future.result()\n",
        "    except Exception as e:\n",
        "      print(\"An error occurred:\", e)"
      ]
    }
  ],
  "metadata": {
    "colab": {
      "last_runtime": {
        "build_target": "//medical/discovery/colab:acoustic_notebook",
        "kind": "private"
      },
      "private_outputs": true,
      "provenance": [
        {
          "file_id": "google_health/health_acoustic_representations/hear_demo.ipynb",
          "timestamp": 1721672412468
        }
      ]
    },
    "kernelspec": {
      "display_name": "Python 3",
      "name": "python3"
    },
    "language_info": {
      "name": "python"
    }
  },
  "nbformat": 4,
  "nbformat_minor": 0
}
