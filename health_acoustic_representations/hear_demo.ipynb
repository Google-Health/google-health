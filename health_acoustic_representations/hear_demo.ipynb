{
  "cells": [
    {
      "cell_type": "markdown",
      "metadata": {
        "id": "p2hQbI_77OjW"
      },
      "source": [
        "```\n",
        "Copyright (c) 2024, Google Inc.\n",
        "All rights reserved.\n",
        "Redistribution and use in source and binary forms, with or without modification,\n",
        "are permitted provided that the following conditions are met:\n",
        "1. Redistributions of source code must retain the above copyright notice, this\n",
        "   list of conditions and the following disclaimer.\n",
        "2. Redistributions in binary form must reproduce the above copyright notice,\n",
        "   this list of conditions and the following disclaimer in the documentation\n",
        "   and/or other materials provided with the distribution.\n",
        "3. Neither the name of Google Inc. nor the names of its contributors\n",
        "   may be used to endorse or promote products derived from this software without\n",
        "   specific prior written permission.\n",
        "THIS SOFTWARE IS PROVIDED BY THE COPYRIGHT HOLDERS AND CONTRIBUTORS \"AS IS\" AND\n",
        "ANY EXPRESS OR IMPLIED WARRANTIES, INCLUDING, BUT NOT LIMITED TO, THE IMPLIED\n",
        "WARRANTIES OF MERCHANTABILITY AND FITNESS FOR A PARTICULAR PURPOSE ARE\n",
        "DISCLAIMED. IN NO EVENT SHALL THE COPYRIGHT HOLDER OR CONTRIBUTORS BE LIABLE FOR\n",
        "ANY DIRECT, INDIRECT, INCIDENTAL, SPECIAL, EXEMPLARY, OR CONSEQUENTIAL DAMAGES\n",
        "(INCLUDING, BUT NOT LIMITED TO, PROCUREMENT OF SUBSTITUTE GOODS OR SERVICES;\n",
        "LOSS OF USE, DATA, OR PROFITS; OR BUSINESS INTERRUPTION) HOWEVER CAUSED AND ON\n",
        "ANY THEORY OF LIABILITY, WHETHER IN CONTRACT, STRICT LIABILITY, OR TORT\n",
        "(INCLUDING NEGLIGENCE OR OTHERWISE) ARISING IN ANY WAY OUT OF THE USE OF THIS\n",
        "SOFTWARE, EVEN IF ADVISED OF THE POSSIBILITY OF SUCH DAMAGE.\n",
        "```\n"
      ]
    },
    {
      "metadata": {
        "id": "ozCvnTeNgfSd"
      },
      "cell_type": "markdown",
      "source": [
        "# Imports"
      ]
    },
    {
      "cell_type": "code",
      "execution_count": null,
      "metadata": {
        "id": "qG8fphmPbwd-"
      },
      "outputs": [],
      "source": [
        "import datetime\n",
        "import os\n",
        "import random\n",
        "from typing import List\n",
        "\n",
        "import google.auth\n",
        "import google.auth.transport.requests\n",
        "from google.cloud import aiplatform\n",
        "from google.cloud.aiplatform.aiplatform import gapic\n",
        "from google.cloud.aiplatform.aiplatform import jobs\n",
        "from google.protobuf import json_format\n",
        "from google.protobuf import struct_pb2"
      ]
    },
    {
      "cell_type": "markdown",
      "metadata": {
        "id": "A137c1bi7Pi5"
      },
      "source": [
        "# Authentication"
      ]
    },
    {
      "cell_type": "markdown",
      "metadata": {
        "id": "kflxFmKocH4k"
      },
      "source": [
        "The JSON file mentioned in the cell below is created by running the following command (for service accounts)\n",
        "\n",
        "```\n",
        "gcloud auth application-default login --impersonate-service-account SERVICE_ACCT\n",
        "```\n",
        "\n",
        "or that command\n",
        "\n",
        "```\n",
        "gcloud auth application-default login \n",
        "```\n",
        "\n",
        "to identify with your own account.\n",
        "\n",
        "This assumes that you have first [installed](https://cloud.google.com/sdk/docs/install) `gcloud` CLI and created a service account (see [[1]](https://cloud.google.com/iam/docs/service-account-overview), [[2]](https://cloud.google.com/iam/docs/service-accounts-create)) (identified by `SERVICE_ACCT` above)"
      ]
    },
    {
      "cell_type": "code",
      "execution_count": null,
      "metadata": {
        "id": "zEqnwMb8b2Yq"
      },
      "outputs": [],
      "source": [
        "os.environ['GOOGLE_APPLICATION_CREDENTIALS'] = '/path/to/your/credentials/json/file'"
      ]
    },
    {
      "cell_type": "markdown",
      "metadata": {
        "id": "muMiY8lS7Q5Z"
      },
      "source": [
        "# Online predictions"
      ]
    },
    {
      "cell_type": "markdown",
      "metadata": {
        "id": "zScxEKPI7XFU"
      },
      "source": [
        "## With raw audio"
      ]
    },
    {
      "cell_type": "code",
      "execution_count": null,
      "metadata": {
        "id": "yfBUZjgG6h0o"
      },
      "outputs": [],
      "source": [
        "def predict_endpoint_sample(\n",
        "    project: str,\n",
        "    endpoint_id: str,\n",
        "    raw_audio: list[list[float]],\n",
        "    location: str = \"us-west1\",\n",
        "    api_endpoint: str = \"us-west1-aiplatform.googleapis.com\",\n",
        ") -\u003e list[dict[str, float]]:\n",
        "  assert {len(x) for x in raw_audio} == {32000}, \"All clips should have exactly 32000 steps.\"\n",
        "  client_options = {'api_endpoint': api_endpoint}\n",
        "  client = gapic.PredictionServiceClient(client_options=client_options)\n",
        "  endpoint = client.endpoint_path(\n",
        "      project=project, location=location, endpoint=endpoint_id\n",
        "  )\n",
        "  response = client.predict(endpoint=endpoint, instances=raw_audio)\n",
        "  return response.predictions\n"
      ]
    },
    {
      "cell_type": "code",
      "execution_count": null,
      "metadata": {
        "id": "-zx9BkYv61WY"
      },
      "outputs": [],
      "source": [
        "endpoint_id = '200'\n",
        "project = '4016704501'\n",
        "raw_audio = [[random.random() for _ in range(32000)] for _ in range(4)]\n",
        "embeddings = predict_endpoint_sample(\n",
        "  project=project,\n",
        "  endpoint_id=endpoint_id,\n",
        "  raw_audio=raw_audio,\n",
        ")"
      ]
    },
    {
      "cell_type": "markdown",
      "metadata": {
        "id": "Ww2Klcij7YoI"
      },
      "source": [
        "## With GCS bucket URIs"
      ]
    },
    {
      "cell_type": "code",
      "execution_count": null,
      "metadata": {
        "id": "6cVSozwVSJTl"
      },
      "outputs": [],
      "source": [
        "\n",
        "gcs_creds, project = google.auth.default()\n",
        "\n",
        "\n",
        "def initial_token_refresh():\n",
        "  \"\"\"Obtain short lived credentials for your GCS bucket.\"\"\"\n",
        "  auth_req = google.auth.transport.requests.Request()\n",
        "  gcs_creds.refresh(auth_req)\n",
        "  assert (\n",
        "      gcs_creds.valid\n",
        "  ), f'Unexpected error: GCS Credentials are invalid'\n",
        "  time_until_expiry = (\n",
        "      gcs_creds.expiry - datetime.datetime.utcnow()\n",
        "  ).total_seconds() // 60\n",
        "  print(\n",
        "      'Token will expire at'\n",
        "      f' {gcs_creds.expiry.strftime(\"%Y-%m-%d %H:%M:%S\")} UTC'\n",
        "      f' ({time_until_expiry} minutes)'\n",
        "  )\n",
        "\n",
        "\n",
        "initial_token_refresh()\n"
      ]
    },
    {
      "cell_type": "code",
      "execution_count": null,
      "metadata": {
        "id": "_Yc8amG07YjA"
      },
      "outputs": [],
      "source": [
        "\n",
        "PredictionServiceClient = aiplatform.aiplatform.gapic.PredictionServiceClient\n",
        "\n",
        "vertex_endpoint_id = '220'\n",
        "vertex_endpoint_project_id = '4016704501'\n",
        "vertex_endpoint_location = 'us-west1'\n",
        "gcs_bucket_name = 'YOUR_BUCKET_NAME'\n",
        "\n",
        "\n",
        "def create_prediction_service_client_and_endpoint_path():\n",
        "  client_options = {\n",
        "      'api_endpoint': (\n",
        "          f'{vertex_endpoint_location}-aiplatform.googleapis.com'\n",
        "      )\n",
        "  }\n",
        "  # Initialize client that will be used to create and send requests.\n",
        "  # This client only needs to be created once, and can be reused for multiple\n",
        "  # requests.\n",
        "  client = PredictionServiceClient(client_options=client_options)\n",
        "  endpoint_path = client.endpoint_path(\n",
        "      project=vertex_endpoint_project_id,\n",
        "      location=vertex_endpoint_location,\n",
        "      endpoint=vertex_endpoint_id,\n",
        "  )\n",
        "  return client, endpoint_path\n",
        "\n",
        "\n",
        "def get_prediction_instances(image_uris: List[str]):\n",
        "  \"\"\"Returns a list of JSON dicts to pass as Vertex PredictionService instances.\"\"\"\n",
        "  instances = []\n",
        "  for image_uri in image_uris:\n",
        "    instance_dict = {\n",
        "        'bucket_name': gcs_bucket_name,\n",
        "        'object_uri': image_uri,\n",
        "        'bearer_token': gcs_creds.token,\n",
        "    }\n",
        "    instance = json_format.ParseDict(instance_dict, struct_pb2.Value())\n",
        "    instances.append(instance)\n",
        "  return instances\n",
        "\n",
        "\n",
        "def predict(\n",
        "    client: PredictionServiceClient, endpoint_path: str, image_uris: List[str]\n",
        "):\n",
        "  \"\"\"Calls predict for a Vertex endpoint using the given image paths.\"\"\"\n",
        "  instances = get_prediction_instances(image_uris)\n",
        "  parameters_dict = {}\n",
        "  parameters = json_format.ParseDict(parameters_dict, struct_pb2.Value())\n",
        "\n",
        "  return client.predict(\n",
        "      endpoint=endpoint_path, instances=instances, parameters=parameters\n",
        "  )\n",
        "\n"
      ]
    },
    {
      "cell_type": "code",
      "execution_count": null,
      "metadata": {
        "id": "6-WC0o3oSZro"
      },
      "outputs": [],
      "source": [
        "\n",
        "client, endpoint_path = create_prediction_service_client_and_endpoint_path()\n",
        "predictions = predict(\n",
        "  client,\n",
        "  endpoint_path=endpoint_path,\n",
        "  image_uris=['data/test.wav', 'data/test.wav']\n",
        ")"
      ]
    },
    {
      "cell_type": "markdown",
      "metadata": {
        "id": "V4Ho50Q_7SOh"
      },
      "source": [
        "# Batch prediction job"
      ]
    },
    {
      "cell_type": "code",
      "execution_count": null,
      "metadata": {
        "id": "3BKL6loM7TZA"
      },
      "outputs": [],
      "source": [
        "\n",
        "\n",
        "BUCKET_NAME = 'YOUR_BUCKET_NAME'\n",
        "PROJECT_NAME = '4016704501'\n",
        "MODEL_ENDPOINT = '200'  # or '220' for the endpoint eating GCS URIs\n",
        "JOB_DISPLAY_NAME = 'your_job_display_name'\n",
        "MODEL_NAME = f'projects/{PROJECT_NAME}/locations/us-west1/models/{MODEL_ENDPOINT}'\n",
        "INSTANCES_FORMAT = 'jsonl'\n",
        "GCS_SOURCE = f'gs://{BUCKET_NAME}/path/to/your/input/jsonl/file'\n",
        "GCS_DESTINATION_PREFIX = f'gs://{BUCKET_NAME}/path/to/your/output/jsonl/file'\n",
        "PREDICTIONS_FORMAT = 'jsonl'\n",
        "ACCELERATOR_TYPE = 'NVIDIA_TESLA_V100'\n",
        "ACCELERATOR_COUNT = 1\n",
        "MACHINE_TYPE = 'n1-standard-8'\n",
        "LOCATION = 'us-west1'\n",
        "\n",
        "jobs.BatchPredictionJob.submit(\n",
        "        job_display_name=JOB_DISPLAY_NAME,\n",
        "        model_name=MODEL_NAME,\n",
        "        instances_format=INSTANCES_FORMAT,\n",
        "        gcs_source=GCS_SOURCE,\n",
        "        gcs_destination_prefix=GCS_DESTINATION_PREFIX,\n",
        "        predictions_format=PREDICTIONS_FORMAT,\n",
        "        accelerator_type=ACCELERATOR_TYPE,\n",
        "        accelerator_count=ACCELERATOR_COUNT,\n",
        "        machine_type=MACHINE_TYPE,\n",
        "        project=PROJECT_NAME,\n",
        "        location=LOCATION,\n",
        ")"
      ]
    }
  ],
  "metadata": {
    "colab": {
      "last_runtime": {
        "build_target": "//learning/grp/tools/ml_python:ml_notebook",
        "kind": "private"
      },
      "private_outputs": true,
      "provenance": []
    },
    "kernelspec": {
      "display_name": "Python 3",
      "name": "python3"
    },
    "language_info": {
      "name": "python"
    }
  },
  "nbformat": 4,
  "nbformat_minor": 0
}
