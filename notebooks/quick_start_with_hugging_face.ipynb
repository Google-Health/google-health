{
  "cells": [
    {
      "cell_type": "markdown",
      "metadata": {
        "id": "1fgVWTMK9SNz"
      },
      "source": [
        "~~~\n",
        "Copyright 2024 Google LLC\n",
        "\n",
        "Licensed under the Apache License, Version 2.0 (the \"License\");\n",
        "you may not use this file except in compliance with the License.\n",
        "You may obtain a copy of the License at\n",
        "\n",
        "    https://www.apache.org/licenses/LICENSE-2.0\n",
        "\n",
        "Unless required by applicable law or agreed to in writing, software\n",
        "distributed under the License is distributed on an \"AS IS\" BASIS,\n",
        "WITHOUT WARRANTIES OR CONDITIONS OF ANY KIND, either express or implied.\n",
        "See the License for the specific language governing permissions and\n",
        "limitations under the License.\n",
        "~~~\n",
        "# Quick start with Hugging Face\n",
        "\n",
        "<table><tbody><tr>\n",
        "  <td style=\"text-align: center\">\n",
        "    <a href=\"https://colab.research.google.com/github/google-health/derm-foundation/blob/master/notebooks/quick_start_with_hugging_face.ipynb\">\n",
        "      <img alt=\"Google Colab logo\" src=\"https://www.tensorflow.org/images/colab_logo_32px.png\" width=\"32px\"><br> Run in Google Colab\n",
        "    </a>\n",
        "  </td>  \n",
        "  <td style=\"text-align: center\">\n",
        "    <a href=\"https://github.com/google-health/derm-foundation/blob/master/notebooks/quick_start_with_hugging_face.ipynb\">\n",
        "      <img alt=\"GitHub logo\" src=\"https://cloud.google.com/ml-engine/images/github-logo-32px.png\" width=\"32px\"><br> View on GitHub\n",
        "    </a>\n",
        "  </td>\n",
        "  <td style=\"text-align: center\">\n",
        "    <a href=\"https://huggingface.co/google/derm-foundation\">\n",
        "      <img alt=\"HuggingFace logo\" src=\"https://huggingface.co/front/assets/huggingface_logo-noborder.svg\" width=\"32px\"><br> View on HuggingFace\n",
        "    </a>\n",
        "  </td>\n",
        "</tr></tbody></table>\n",
        "\n",
        "This Colab notebook provides a basic usage example of the Derm Foundation encoder that generates a machine learning representation of images, known as \"embeddings\", from dermatological images. These embeddings can be used to develop custom machine learning models for dermatology use-cases with less data and compute compared to traditional model development methods.\n",
        "\n",
        " Learn more about embeddings and their benefits at [this page](https://developers.google.com/health-ai-developer-foundations/derm-foundation)."
      ]
    },
    {
      "cell_type": "code",
      "execution_count": null,
      "metadata": {
        "id": "9XpCla68-Iol"
      },
      "outputs": [],
      "source": [
        "# @title Authenticate with HuggingFace, skip if you have a HF_TOKEN secret\n",
        "\n",
        "# Authenticate user for HuggingFace if needed. Enter token below if requested.\n",
        "from huggingface_hub.utils import HfFolder\n",
        "from huggingface_hub import notebook_login\n",
        "\n",
        "if HfFolder.get_token() is None:\n",
        "    from huggingface_hub import notebook_login\n",
        "    notebook_login()"
      ]
    },
    {
      "cell_type": "code",
      "execution_count": null,
      "metadata": {
        "id": "j81KORIqloq-"
      },
      "outputs": [],
      "source": [
        "# @title Load and display test image from SCIN Dataset\n",
        "# https://github.com/google-research-datasets/scin\n",
        "\n",
        "from PIL import Image\n",
        "from io import BytesIO\n",
        "from IPython.display import Image as IPImage, display\n",
        "\n",
        "# Download sample image\n",
        "!wget -nc -q https://storage.googleapis.com/dx-scin-public-data/dataset/images/3445096909671059178.png\n",
        "\n",
        "# Load the image, process, and directly display it\n",
        "img = Image.open(\"3445096909671059178.png\")\n",
        "buf = BytesIO()\n",
        "img.convert('RGB').save(buf, 'PNG')\n",
        "image_bytes = buf.getvalue()\n",
        "display(IPImage(data=buf.getvalue()))"
      ]
    },
    {
      "cell_type": "code",
      "execution_count": null,
      "metadata": {
        "id": "Fhk4GKkwsAMj"
      },
      "outputs": [],
      "source": [
        "# @title Compute Embeddings\n",
        "from huggingface_hub import from_pretrained_keras\n",
        "import tensorflow as tf\n",
        "import matplotlib.pyplot as plt\n",
        "\n",
        "# Format input\n",
        "input_tensor= tf.train.Example(features=tf.train.Features(\n",
        "        feature={'image/encoded': tf.train.Feature(\n",
        "            bytes_list=tf.train.BytesList(value=[image_bytes]))\n",
        "        })).SerializeToString()\n",
        "\n",
        "# Load the model directly from Hugging Face Hub\n",
        "loaded_model = from_pretrained_keras(\"google/derm-foundation\")\n",
        "\n",
        "# Call inference\n",
        "infer = loaded_model.signatures[\"serving_default\"]\n",
        "output = infer(inputs=tf.constant([input_tensor]))\n",
        "\n",
        "# Extract the embedding vector\n",
        "embedding_vector = output['embedding'].numpy().flatten()\n",
        "print(\"Size of embedding vector:\", len(embedding_vector))\n",
        "\n",
        "# Plot the embedding vector\n",
        "plt.figure(figsize=(12, 4))\n",
        "plt.plot(embedding_vector)\n",
        "plt.title('Embedding Vector')\n",
        "plt.xlabel('Index')\n",
        "plt.ylabel('Value')\n",
        "plt.grid(True)\n",
        "plt.show()"
      ]
    },
    {
      "cell_type": "code",
      "source": [
        "loaded_model = from_pretrained_keras(\"google/hear-staging\")\n"
      ],
      "metadata": {
        "id": "jrDFfjf2Qf6N"
      },
      "execution_count": null,
      "outputs": []
    },
    {
      "cell_type": "markdown",
      "metadata": {
        "id": "PHTxQttKYNpa"
      },
      "source": [
        "# Next steps\n",
        "\n",
        "Explore the other [notebooks](https://github.com/google-health/derm-foundation/blob/master/notebooks) to learn what else you can do with the model."
      ]
    }
  ],
  "metadata": {
    "colab": {
      "name": "quick_start_with_hugging_face.ipynb",
      "private_outputs": true,
      "provenance": []
    },
    "kernelspec": {
      "display_name": "Python 3",
      "name": "python3"
    },
    "language_info": {
      "name": "python"
    }
  },
  "nbformat": 4,
  "nbformat_minor": 0
}